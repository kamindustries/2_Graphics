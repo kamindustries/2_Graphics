{
 "cells": [
  {
   "cell_type": "code",
   "execution_count": 66,
   "metadata": {
    "collapsed": false
   },
   "outputs": [
    {
     "name": "stdout",
     "output_type": "stream",
     "text": [
      "B: 1.025365\n",
      "A: 0.000195\n",
      "dx: 0.000000\n",
      "f: 0.000000\n",
      "dfdx: -0.011746\n"
     ]
    }
   ],
   "source": [
    "A = .2;\n",
    "B = 1.0;\n",
    "\n",
    "F = 0.05;\n",
    "k = 0.0675;\n",
    "B_new = B;\n",
    "B_og = B;\n",
    "dfdx = B;\n",
    "\n",
    "f = 0.0;\n",
    "dx = 1.0;\n",
    "dt = .1;\n",
    "\n",
    "N = 60\n",
    "\n",
    "for i in range (0,N):\n",
    "# while (dx > 1e-6) {\n",
    "    B = B_new;\n",
    "    f = B_og + dt*( ((A + F*dt)/((dt*(B*B)) + (F*dt) + 1.0))*(B*B) - ((F+k)*B) );\n",
    "    numerator = (2.0*A*B*F*(dt*dt)) + (2.0*A*B*dt) + (2.0*(F*F)*B*(dt*dt*dt)) + (2.0*F*B*(dt*dt));\n",
    "    denominator = (((B*B)*dt) + (F*dt) + 1.0);\n",
    "    dfdx = (numerator / (denominator*denominator)) - (F*dt) - (k*dt);\n",
    "#   Newton-Raphson step\n",
    "    B_new = B - (f/dfdx);\n",
    "    dx = abs(B-B_new);\n",
    "    \n",
    "A = (A + (F*dt)) / ((dt*(B_new*B_new)) + (F*dt) + 1.0);\n",
    "\n",
    "\n",
    "print \"B: %f\" % B_new \n",
    "print \"A: %f\" % A\n",
    "print \"dx: %f\" % dx\n",
    "print \"f: %f\" % f\n",
    "print \"dfdx: %f\" % dfdx"
   ]
  },
  {
   "cell_type": "code",
   "execution_count": null,
   "metadata": {
    "collapsed": true
   },
   "outputs": [],
   "source": []
  }
 ],
 "metadata": {
  "kernelspec": {
   "display_name": "Python 2",
   "language": "python",
   "name": "python2"
  },
  "language_info": {
   "codemirror_mode": {
    "name": "ipython",
    "version": 2
   },
   "file_extension": ".py",
   "mimetype": "text/x-python",
   "name": "python",
   "nbconvert_exporter": "python",
   "pygments_lexer": "ipython2",
   "version": "2.7.9"
  }
 },
 "nbformat": 4,
 "nbformat_minor": 0
}
