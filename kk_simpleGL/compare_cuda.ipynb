{
 "metadata": {
  "name": "",
  "signature": "sha256:4e7895bd0ef61fddf0d1ef6dcab8250da9f413a1ee86bc1e544fd9380d7dbe5a"
 },
 "nbformat": 3,
 "nbformat_minor": 0,
 "worksheets": [
  {
   "cells": [
    {
     "cell_type": "code",
     "collapsed": false,
     "input": [
      "# Compare fieldviewer and cuda frames\n",
      "# Assumes data is a one dimensional array with RGB values using newline separation per value\n",
      "# The comparison only uses the red channel"
     ],
     "language": "python",
     "metadata": {},
     "outputs": []
    },
    {
     "cell_type": "code",
     "collapsed": false,
     "input": [
      "%pylab inline\n",
      "\n",
      "frames = [1000, 9000, 17000, 19000, 21000, 23000]\n",
      "print(\"\\nFrames to compare: \" + str(frames))\n",
      "\n",
      "cuda_filename = []\n",
      "fv_filename = []\n",
      "cuda_data = []\n",
      "fv_data = []\n",
      "sub_data = []\n",
      "\n",
      "# prepare filenames\n",
      "for i, data in enumerate(frames):\n",
      "    cuda_filename.append('data/cuda_x' + str(data) +'.txt')\n",
      "    fv_filename.append('data/fv_x' + str(data) +'.txt')\n",
      "\n",
      "# read files into [frame#][data] list\n",
      "for i, data in enumerate(frames):\n",
      "    cuda_data.append([data.rstrip('\\n') for data in open(cuda_filename[i])])\n",
      "    fv_data.append([data.rstrip('\\n') for data in open(fv_filename[i])])\n",
      "\n",
      "# subtract fieldviewer from cuda (red channel only)\n",
      "print(\"\\nNumber of pixels:\")\n",
      "for i, data in enumerate(cuda_data):\n",
      "    subd = 0.0\n",
      "    sub_list = []\n",
      "    for j, name in enumerate(data):\n",
      "        # calculate relative error for the red channel\n",
      "        if (j % 3 == 0):\n",
      "            fv_r = float(fv_data[i][j])\n",
      "            cuda_r = float(cuda_data[i][j])\n",
      "            if (fv_r == 0.0):\n",
      "                sub_list.append(abs(fv_r - cuda_r))\n",
      "            else:\n",
      "                sub_list.append(abs((fv_r - cuda_r))/abs(fv_r))\n",
      "    sub_data.append(sub_list)\n",
      "    print(\"x\" + str(frames[i]) + \": \" + str(len(sub_list)))\n",
      "    \n",
      "print(\"\\nNumber of pixels with non-zero difference:\")\n",
      "for i, data in enumerate(sub_data):\n",
      "    nz = 0\n",
      "    for j, dataj in enumerate(data):\n",
      "        if (dataj != 0.0): \n",
      "            nz+=1\n",
      "    print(\"x\" + str(frames[i]) + \": \" + str(nz))    \n",
      "    \n",
      "print(\"\\nAverage difference (all pixels):\")\n",
      "for i, data in enumerate(sub_data):\n",
      "    print(\"x\" + str(frames[i]) + \": \" + str(average(data)))\n",
      "    \n",
      "print(\"\\nAverage difference (different pixels only):\")\n",
      "for i, data in enumerate(sub_data):\n",
      "    sub_list = []\n",
      "    for j, dataj in enumerate(data):\n",
      "        if (dataj != 0.0):\n",
      "            sub_list.append(dataj)\n",
      "    print(\"x\" + str(frames[i]) + \": \" + str(average(sub_list)))"
     ],
     "language": "python",
     "metadata": {},
     "outputs": [
      {
       "output_type": "stream",
       "stream": "stdout",
       "text": [
        "Populating the interactive namespace from numpy and matplotlib\n",
        "\n",
        "Frames to compare: [1000, 9000, 17000, 19000, 21000, 23000]\n",
        "\n",
        "Number of pixels:"
       ]
      },
      {
       "output_type": "stream",
       "stream": "stdout",
       "text": [
        "\n",
        "x1000: 65536"
       ]
      },
      {
       "output_type": "stream",
       "stream": "stdout",
       "text": [
        "\n",
        "x9000: 65536"
       ]
      },
      {
       "output_type": "stream",
       "stream": "stdout",
       "text": [
        "\n",
        "x17000: 65536"
       ]
      },
      {
       "output_type": "stream",
       "stream": "stdout",
       "text": [
        "\n",
        "x19000: 65536"
       ]
      },
      {
       "output_type": "stream",
       "stream": "stdout",
       "text": [
        "\n",
        "x21000: 65536"
       ]
      },
      {
       "output_type": "stream",
       "stream": "stdout",
       "text": [
        "\n",
        "x23000: 65536"
       ]
      },
      {
       "output_type": "stream",
       "stream": "stdout",
       "text": [
        "\n",
        "\n",
        "Number of pixels with non-zero difference:\n",
        "x1000: 250\n",
        "x9000: 19320\n",
        "x17000: 58392\n",
        "x19000: 62254\n",
        "x21000: 63949"
       ]
      },
      {
       "output_type": "stream",
       "stream": "stdout",
       "text": [
        "\n",
        "x23000: 64315\n",
        "\n",
        "Average difference (all pixels):\n",
        "x1000: 6.30801328516e-08\n",
        "x9000: 3.64116172497e-05\n",
        "x17000: 0.00101002820941\n",
        "x19000: 0.00166240564766\n",
        "x21000: 0.00225861533931"
       ]
      },
      {
       "output_type": "stream",
       "stream": "stdout",
       "text": [
        "\n",
        "x23000: 0.00288455639777\n",
        "\n",
        "Average difference (different pixels only):\n",
        "x1000: 1.65360783462e-05\n",
        "x9000: 0.000123513030439\n",
        "x17000: 0.00113360064276"
       ]
      },
      {
       "output_type": "stream",
       "stream": "stdout",
       "text": [
        "\n",
        "x19000: 0.0017500468488\n",
        "x21000: 0.00231466660741"
       ]
      },
      {
       "output_type": "stream",
       "stream": "stdout",
       "text": [
        "\n",
        "x23000: 0.00293931879164\n"
       ]
      }
     ],
     "prompt_number": 17
    },
    {
     "cell_type": "code",
     "collapsed": false,
     "input": [],
     "language": "python",
     "metadata": {},
     "outputs": []
    }
   ],
   "metadata": {}
  }
 ]
}