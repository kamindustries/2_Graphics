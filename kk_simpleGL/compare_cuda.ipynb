{
 "metadata": {
  "name": "",
  "signature": "sha256:12710048057398a3b67d9e3241ff781cea0a591b25e7858e4770576d15f9c05e"
 },
 "nbformat": 3,
 "nbformat_minor": 0,
 "worksheets": [
  {
   "cells": [
    {
     "cell_type": "code",
     "collapsed": false,
     "input": [
      "%pylab inline\n",
      "\n",
      "frames = [1000, 9000, 17600]\n",
      "print(\"\\nFrames to compare: \" + str(frames))\n",
      "\n",
      "cuda_filename = []\n",
      "fv_filename = []\n",
      "cuda_data = []\n",
      "fv_data = []\n",
      "sub_data = []\n",
      "\n",
      "# prepare filenames\n",
      "for i, data in enumerate(frames):\n",
      "    cuda_filename.append('data/cuda_x' + str(data) +'.txt')\n",
      "    fv_filename.append('data/fv_x' + str(data) +'.txt')\n",
      "\n",
      "# read files into [frame#][data] list\n",
      "for i, data in enumerate(frames):\n",
      "    cuda_data.append([data.rstrip('\\n') for data in open(cuda_filename[i])])\n",
      "    fv_data.append([data.rstrip('\\n') for data in open(fv_filename[i])])\n",
      "\n",
      "# subtract fieldviewer from cuda\n",
      "print(\"\\nNumber of pixels:\")\n",
      "for i, data in enumerate(cuda_data):\n",
      "    subd = 0.0\n",
      "    sub_list = []\n",
      "    for j, name in enumerate(data):\n",
      "        # only grab the red channel\n",
      "        if (j % 3 == 0):\n",
      "            sub_list.append(float(cuda_data[i][j]) - float(fv_data[i][j]))\n",
      "    sub_data.append(sub_list)\n",
      "    print(\"x\" + str(frames[i]) + \": \" + str(len(sub_list)))\n",
      "    \n",
      "print(\"\\nNumber of pixels with non-zero difference:\")\n",
      "for i, data in enumerate(sub_data):\n",
      "    nz = 0\n",
      "    for j, dataj in enumerate(data):\n",
      "        if (dataj != 0.0): \n",
      "            nz+=1\n",
      "    print(\"x\" + str(frames[i]) + \": \" + str(nz))    \n",
      "    \n",
      "print(\"\\nAverage difference per frame:\")\n",
      "for i, data in enumerate(sub_data):\n",
      "    print(\"x\" + str(frames[i]) + \": \" + str(average(data)))\n",
      "    \n",
      "print(\"\\nAverage difference for only non-zero values:\")\n",
      "for i, data in enumerate(sub_data):\n",
      "    sub_list = []\n",
      "    for j, dataj in enumerate(data):\n",
      "        if (dataj != 0.0):\n",
      "            sub_list.append(dataj)\n",
      "    print(\"x\" + str(frames[i]) + \": \" + str(average(sub_list)))"
     ],
     "language": "python",
     "metadata": {},
     "outputs": [
      {
       "output_type": "stream",
       "stream": "stdout",
       "text": [
        "Populating the interactive namespace from numpy and matplotlib\n",
        "\n",
        "Frames to compare: [1000, 9000, 17600]\n",
        "\n",
        "Number of pixels:"
       ]
      },
      {
       "output_type": "stream",
       "stream": "stdout",
       "text": [
        "\n",
        "x1000: 65536"
       ]
      },
      {
       "output_type": "stream",
       "stream": "stdout",
       "text": [
        "\n",
        "x9000: 65536"
       ]
      },
      {
       "output_type": "stream",
       "stream": "stdout",
       "text": [
        "\n",
        "x17600: 65536"
       ]
      },
      {
       "output_type": "stream",
       "stream": "stdout",
       "text": [
        "\n",
        "\n",
        "Number of pixels with non-zero difference:\n",
        "x1000: 229\n",
        "x9000: 18764\n",
        "x17600: 60476\n",
        "\n",
        "Average difference per frame:\n",
        "x1000: -1.3671875e-08\n",
        "x9000: -6.13403320313e-09\n",
        "x17600: 1.17997283936e-05"
       ]
      },
      {
       "output_type": "stream",
       "stream": "stdout",
       "text": [
        "\n",
        "\n",
        "Average difference for only non-zero values:\n",
        "x1000: -3.91266375547e-06\n",
        "x9000: -2.14240034108e-08\n",
        "x17600: 1.27870064158e-05\n"
       ]
      }
     ],
     "prompt_number": 37
    },
    {
     "cell_type": "code",
     "collapsed": false,
     "input": [],
     "language": "python",
     "metadata": {},
     "outputs": []
    }
   ],
   "metadata": {}
  }
 ]
}