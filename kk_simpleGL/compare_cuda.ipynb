{
 "metadata": {
  "name": "",
  "signature": "sha256:16e8d1656c697b7a201c074227a771905363a26bc0b6b5cd436a5c72b3d3a50a"
 },
 "nbformat": 3,
 "nbformat_minor": 0,
 "worksheets": [
  {
   "cells": [
    {
     "cell_type": "code",
     "collapsed": false,
     "input": [
      "# Compare fieldviewer and cuda frames\n",
      "# Assumes data is a one dimensional array with RGB values using newline separation per value\n",
      "# The comparison only uses the red channel"
     ],
     "language": "python",
     "metadata": {},
     "outputs": []
    },
    {
     "cell_type": "code",
     "collapsed": false,
     "input": [
      "%pylab inline\n",
      "\n",
      "frames = [1000, 9000, 17600]\n",
      "print(\"\\nFrames to compare: \" + str(frames))\n",
      "\n",
      "cuda_filename = []\n",
      "fv_filename = []\n",
      "cuda_data = []\n",
      "fv_data = []\n",
      "sub_data = []\n",
      "\n",
      "# prepare filenames\n",
      "for i, data in enumerate(frames):\n",
      "    cuda_filename.append('data/cuda_x' + str(data) +'.txt')\n",
      "    fv_filename.append('data/fv_x' + str(data) +'.txt')\n",
      "\n",
      "# read files into [frame#][data] list\n",
      "for i, data in enumerate(frames):\n",
      "    cuda_data.append([data.rstrip('\\n') for data in open(cuda_filename[i])])\n",
      "    fv_data.append([data.rstrip('\\n') for data in open(fv_filename[i])])\n",
      "\n",
      "# subtract fieldviewer from cuda (red channel only)\n",
      "print(\"\\nNumber of pixels:\")\n",
      "for i, data in enumerate(cuda_data):\n",
      "    subd = 0.0\n",
      "    sub_list = []\n",
      "    for j, name in enumerate(data):\n",
      "        # calculate relative error for the red channel\n",
      "        if (j % 3 == 0):\n",
      "            fv_r = float(fv_data[i][j])\n",
      "            cuda_r = float(cuda_data[i][j])\n",
      "            if (fv_r == 0.0):\n",
      "                sub_list.append(fv_r - cuda_r)\n",
      "            else:\n",
      "                sub_list.append((fv_r - cuda_r)/fv_r)\n",
      "    sub_data.append(sub_list)\n",
      "    print(\"x\" + str(frames[i]) + \": \" + str(len(sub_list)))\n",
      "    \n",
      "print(\"\\nNumber of pixels with non-zero difference:\")\n",
      "for i, data in enumerate(sub_data):\n",
      "    nz = 0\n",
      "    for j, dataj in enumerate(data):\n",
      "        if (dataj != 0.0): \n",
      "            nz+=1\n",
      "    print(\"x\" + str(frames[i]) + \": \" + str(nz))    \n",
      "    \n",
      "print(\"\\nAverage difference per frame:\")\n",
      "for i, data in enumerate(sub_data):\n",
      "    print(\"x\" + str(frames[i]) + \": \" + str(average(data)))\n",
      "\n",
      "foo = average(sub_data[1]) - average(sub_data[0])\n",
      "print(foo)\n",
      "foo = average(sub_data[2]) - average(sub_data[1])\n",
      "print(foo)\n",
      "    \n",
      "print(\"\\nAverage difference for only non-zero values:\")\n",
      "for i, data in enumerate(sub_data):\n",
      "    sub_list = []\n",
      "    for j, dataj in enumerate(data):\n",
      "        if (dataj != 0.0):\n",
      "            sub_list.append(dataj)\n",
      "    print(\"x\" + str(frames[i]) + \": \" + str(average(sub_list)))"
     ],
     "language": "python",
     "metadata": {},
     "outputs": [
      {
       "output_type": "stream",
       "stream": "stdout",
       "text": [
        "Populating the interactive namespace from numpy and matplotlib\n",
        "\n",
        "Frames to compare: [1000, 9000, 17600]\n",
        "\n",
        "Number of pixels:"
       ]
      },
      {
       "output_type": "stream",
       "stream": "stdout",
       "text": [
        "\n",
        "x1000: 65536"
       ]
      },
      {
       "output_type": "stream",
       "stream": "stdout",
       "text": [
        "\n",
        "x9000: 65536"
       ]
      },
      {
       "output_type": "stream",
       "stream": "stdout",
       "text": [
        "\n",
        "x17600: 65536"
       ]
      },
      {
       "output_type": "stream",
       "stream": "stdout",
       "text": [
        "\n",
        "\n",
        "Number of pixels with non-zero difference:\n",
        "x1000: 229\n",
        "x9000: 18764"
       ]
      },
      {
       "output_type": "stream",
       "stream": "stdout",
       "text": [
        "\n",
        "x17600: 60476\n",
        "\n",
        "Average difference per frame:\n",
        "x1000: -1.23568587103e-08"
       ]
      },
      {
       "output_type": "stream",
       "stream": "stdout",
       "text": [
        "\n",
        "x9000: 9.96970005992e-07\n",
        "x17600: -0.00131811937988"
       ]
      },
      {
       "output_type": "stream",
       "stream": "stdout",
       "text": [
        "\n",
        "1.0093268647e-06"
       ]
      },
      {
       "output_type": "stream",
       "stream": "stdout",
       "text": [
        "\n",
        "-0.00131911634989\n",
        "\n",
        "Average difference for only non-zero values:\n",
        "x1000: -3.53632791457e-06"
       ]
      },
      {
       "output_type": "stream",
       "stream": "stdout",
       "text": [
        "\n",
        "x9000: 3.48206279646e-06"
       ]
      },
      {
       "output_type": "stream",
       "stream": "stdout",
       "text": [
        "\n",
        "x17600: -0.00142840584166"
       ]
      },
      {
       "output_type": "stream",
       "stream": "stdout",
       "text": [
        "\n"
       ]
      }
     ],
     "prompt_number": 14
    },
    {
     "cell_type": "code",
     "collapsed": false,
     "input": [],
     "language": "python",
     "metadata": {},
     "outputs": []
    }
   ],
   "metadata": {}
  }
 ]
}